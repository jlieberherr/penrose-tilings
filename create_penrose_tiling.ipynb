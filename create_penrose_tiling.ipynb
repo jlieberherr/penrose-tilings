{
 "cells": [
  {
   "cell_type": "markdown",
   "id": "2dc4099f-561d-4a70-b39c-0a9879bc155a",
   "metadata": {},
   "source": [
    "# Generation of Penrose Tilings of Type P2 and P3 by Deflation"
   ]
  },
  {
   "cell_type": "markdown",
   "id": "addf7675-29a9-4d4e-af67-063635af2033",
   "metadata": {},
   "source": [
    "## Imports"
   ]
  },
  {
   "cell_type": "code",
   "execution_count": null,
   "id": "e96d31ae-3b96-4f84-b946-17b59392e9fc",
   "metadata": {},
   "outputs": [],
   "source": [
    "import numpy as np\n",
    "import matplotlib.pyplot as plt\n",
    "\n",
    "import itertools"
   ]
  },
  {
   "cell_type": "markdown",
   "id": "0074d2d0-3ec2-4827-9e31-c8eb9aca67a0",
   "metadata": {},
   "source": [
    "## Settings"
   ]
  },
  {
   "cell_type": "code",
   "execution_count": null,
   "id": "0ab4fd4c-f426-4578-b915-dea831a910f3",
   "metadata": {},
   "outputs": [],
   "source": [
    "TRIANGLE_TYPES = {1, 2} # type 1: for P2-tilings, type 2: for P3-tilings\n",
    "SHAPES = {'A', 'O'} # 'A': acute equilateral triangle, 'O': obtuse equilateral triangle \n",
    "SIDES = {'F', 'B'} # 'F': frontside, 'B': backside\n",
    "\n",
    "LINE_COLOR = 'black'\n",
    "TRIANGLE_COLOR_PER_TYPE_SHAPE_SIDE = {\n",
    "    1: {\n",
    "        'A': {\n",
    "            'F': (1, 0, 0, 1),\n",
    "            'B': (1, 0, 0, 0.5),\n",
    "        },\n",
    "        'O': {\n",
    "            'F': (1, 0.5, 0, 1),\n",
    "            'B': (1, 0.5, 0, 0.5),\n",
    "        }\n",
    "    },\n",
    "    2: {\n",
    "        'A': {\n",
    "            'F': (0, 0, 1, 1),\n",
    "            'B': (0, 0, 1, 0.5),\n",
    "        },\n",
    "        'O': {\n",
    "            'F': (0, 0.5, 1, 1),\n",
    "            'B': (0, 0.5, 1, 0.5),\n",
    "        }\n",
    "    }\n",
    "}"
   ]
  },
  {
   "cell_type": "markdown",
   "id": "1cb952e8-0ede-4cab-a0c1-31ccc28adafd",
   "metadata": {},
   "source": [
    "## Data structres and helpers"
   ]
  },
  {
   "cell_type": "code",
   "execution_count": null,
   "id": "da535f00-8dfa-4210-a7b9-80c548f8302c",
   "metadata": {},
   "outputs": [],
   "source": [
    "def rotate(point, origin, angle_deg):\n",
    "    '''rotates the complex number point around the complex number origin by angle_deg in degrees (counter-clockwise)'''\n",
    "    angle_rad = np.deg2rad(angle_deg)\n",
    "    return (point - origin) * np.exp(1j * angle_rad) + origin"
   ]
  },
  {
   "cell_type": "code",
   "execution_count": null,
   "id": "dc5c4746-ca2b-4131-ac70-e19da250062d",
   "metadata": {},
   "outputs": [],
   "source": [
    "class RobinsonTriangle:\n",
    "    '''containter for Robinson triangles'''\n",
    "    def __init__(self, t_type, shape, side, A, B):\n",
    "        if t_type not in TRIANGLE_TYPES:\n",
    "            raise ValueError('t_type must be in {}, but is {}'.format(triangle_types, t_type))\n",
    "        self.t_type = t_type\n",
    "        if shape not in SHAPES:\n",
    "            raise ValueError('shape must be in {}, but is {}'.format(shapes, shape))\n",
    "        self.shape = shape\n",
    "        self.side = side\n",
    "        if side not in SIDES:\n",
    "            raise ValueError('side must be in {}, but is {}'.format(sides, side))\n",
    "        self.side = side\n",
    "        if abs(B - A) == 0:\n",
    "            raise ValueError('points {} and {} are identical, but must be different'.format(A, B))\n",
    "        if not isinstance(A, complex):\n",
    "            raise ValueError('A must be a complex number but is {}'.format(type(A)))\n",
    "        if not isinstance(B, complex):\n",
    "            raise ValueError('B must be a complex number but is {}'.format(type(B)))\n",
    "        self.A = A # the point at the top of the equilateral triangle as a complex number\n",
    "        self.B = B # the point after A (anti-clockwise) as a complex number\n",
    "        rot_angle_deg = 36 if self.shape == 'A' else 108\n",
    "        self.C = rotate(B, A, rot_angle_deg)\n",
    "    def __repr__(self):\n",
    "        return '[t_type={}, shape={}, side={}, A={}, B={}, C={}]'.format(self.t_type, self.shape, self.side, self.A, self.B, self.C)\n",
    "    def draw(self, draw_base_side=True, fill=True):\n",
    "        li = [[self.A.real, self.B.real], [self.A.imag, self.B.imag], [self.A.real, self.C.real], [self.A.imag, self.C.imag]]\n",
    "        if draw_base_side:\n",
    "            li += [[self.B.real, self.C.real], [self.B.imag, self.C.imag]]\n",
    "        plt.plot(*li, color='black')\n",
    "        if fill:\n",
    "            plt.fill([self.A.real, self.B.real, self.C.real], [self.A.imag, self.B.imag, self.C.imag], color=TRIANGLE_COLOR_PER_TYPE_SHAPE_SIDE[self.t_type][self.shape][self.side])\n",
    "    def deflate(self):\n",
    "        if self.t_type == 1:\n",
    "            return []\n",
    "            # raise NotImplementedError('deflation for t_type 1 is not implemented yet')\n",
    "        elif self.t_type == 2:\n",
    "            if self.shape == 'A':\n",
    "                if self.side == 'F':\n",
    "                    D = rotate(self.C, self.B, 36)\n",
    "                    return [\n",
    "                        RobinsonTriangle(self.t_type, 'A', 'F', self.B, self.C),\n",
    "                        RobinsonTriangle(self.t_type, 'O', 'B', D, self.A),\n",
    "                    ] \n",
    "                elif self.side == 'B':\n",
    "                    D = rotate(self.B, self.C, 360 - 36)\n",
    "                    return [\n",
    "                        RobinsonTriangle(self.t_type, 'O', 'F', D, self.C),\n",
    "                        RobinsonTriangle(self.t_type, 'A', 'B', self.C, D),\n",
    "                    ] \n",
    "            elif self.shape == 'O':\n",
    "                if self.side == 'F':\n",
    "                    P = rotate(self.A, self.B, 360 - 36)\n",
    "                    Q = rotate(self.A, P, 36)\n",
    "                    return [\n",
    "                        RobinsonTriangle(self.t_type, 'O', 'B', Q, self.B),\n",
    "                        RobinsonTriangle(self.t_type, 'A', 'F', P, self.A),\n",
    "                        RobinsonTriangle(self.t_type, 'O', 'F', P, self.C),\n",
    "                    ]\n",
    "                elif self.side == 'B':\n",
    "                    P = rotate(self.A, self.C, 36)\n",
    "                    Q = rotate(self.A, P, 360 - 36)\n",
    "                return [\n",
    "                        RobinsonTriangle(self.t_type, 'O', 'F', Q, P),\n",
    "                        RobinsonTriangle(self.t_type, 'A', 'B', P, Q),\n",
    "                        RobinsonTriangle(self.t_type, 'O', 'B', P, self.A),\n",
    "                    ]\n",
    "            "
   ]
  },
  {
   "cell_type": "markdown",
   "id": "1f987f8a-7ae0-4414-9e6a-affd6677a293",
   "metadata": {},
   "source": [
    "## Colors and deflation of Robinson triangles"
   ]
  },
  {
   "cell_type": "code",
   "execution_count": null,
   "id": "d9a219ed-679a-4a15-837c-7f97fe979184",
   "metadata": {},
   "outputs": [],
   "source": [
    "def draw_rt_and_deflation(i, t_type, shape, side):\n",
    "    plt.sca(axs[i,0])\n",
    "    plt.title('type {}, shape {} and side {}:'.format(t_type, shape, side))\n",
    "    plt.axis('equal')\n",
    "    plt.axis('off')\n",
    "    rt = RobinsonTriangle(t_type, shape, side, complex(0), complex(1))\n",
    "    rt.draw()\n",
    "    plt.sca(axs[i,1])\n",
    "    plt.title('Deflation of type {}, shape {} and side {}:'.format(t_type, shape, side))\n",
    "    plt.axis('equal')\n",
    "    plt.axis('off')\n",
    "    for t in rt.deflate():\n",
    "        t.draw()\n",
    "\n",
    "fig, axs = plt.subplots(8, 2, figsize=(10, 20))\n",
    "        \n",
    "for (i, (t_type, shape, side)) in enumerate(itertools.product(TRIANGLE_TYPES, SHAPES, SIDES)):\n",
    "    draw_rt_and_deflation(i, t_type, shape, side)\n",
    "\n",
    "plt.show()"
   ]
  },
  {
   "cell_type": "markdown",
   "id": "554c5e1b-72f6-4bf2-9ab6-6731fe9e1e87",
   "metadata": {},
   "source": [
    "## Some more helpers"
   ]
  },
  {
   "cell_type": "code",
   "execution_count": null,
   "id": "8ff171a5-e258-4435-9a84-ed2bea0f30bd",
   "metadata": {},
   "outputs": [],
   "source": [
    "def deflate_triangles(rts):\n",
    "    '''deflates all robinson triangles within rts and returns the list of all deflated robinson triangles'''\n",
    "    res = []\n",
    "    for rt in rts:\n",
    "        res += rt.deflate()\n",
    "    return res"
   ]
  },
  {
   "cell_type": "code",
   "execution_count": null,
   "id": "9d2d520d-d9a7-4772-baeb-e612e1370c46",
   "metadata": {},
   "outputs": [],
   "source": [
    "def deflate(first_rt, iter_depth):\n",
    "    '''returns the list of the robinson triangles after iter_depth deflations of the starting robinson triangle first_rt'''\n",
    "    res = [first_rt]\n",
    "    for i in range(iter_depth):\n",
    "        res = deflate_triangles(res)\n",
    "    return res"
   ]
  },
  {
   "cell_type": "code",
   "execution_count": null,
   "id": "b9ef703c-e4f9-40b3-b411-5780c3f193b9",
   "metadata": {},
   "outputs": [],
   "source": [
    "def get_box(rts):\n",
    "    '''returns the bounding box of a list of robinson triangles'''\n",
    "    x_min = min([min(rt.A.real, rt.B.real, rt.C.real) for rt in rts])\n",
    "    x_max = max([max(rt.A.real, rt.B.real, rt.C.real) for rt in rts])\n",
    "    y_min = min([min(rt.A.imag, rt.B.imag, rt.C.imag) for rt in rts])\n",
    "    y_max = max([max(rt.A.imag, rt.B.imag, rt.C.imag) for rt in rts])\n",
    "    return (x_min, y_min), (x_max, y_max)"
   ]
  },
  {
   "cell_type": "code",
   "execution_count": null,
   "id": "f80a24d2-64b3-46c3-b5ed-657f2e2807a7",
   "metadata": {},
   "outputs": [],
   "source": [
    "def draw_rts(rts, draw_base_side=False, fill=False, fig_width=50, svg_file_name=''):\n",
    "    '''draws the robinson triangles within rts'''\n",
    "    (x_min, y_min), (x_max, y_max) = get_box(rts)\n",
    "    y_scale = (x_max - x_min) / (y_max - y_min)\n",
    "    plt.figure(figsize=(fig_width, fig_width / y_scale))\n",
    "    plt.axis('equal')\n",
    "    plt.axis('off')\n",
    "    for t in rts:\n",
    "        t.draw(draw_base_side=draw_base_side, fill=fill)\n",
    "    if svg_file_name:\n",
    "        plt.savefig(svg_file_name)\n",
    "    plt.show()"
   ]
  },
  {
   "cell_type": "markdown",
   "id": "c4c69209-5d84-4037-8494-d8f8854ff2de",
   "metadata": {},
   "source": [
    "## Draw Penrose tilings"
   ]
  },
  {
   "cell_type": "code",
   "execution_count": null,
   "id": "11f3cad8-8d2c-4a7d-9bae-cf4bd19862c8",
   "metadata": {},
   "outputs": [],
   "source": [
    "def draw_penrose_tiling(t_type=1, shape='A', side='F', iter_depth=8, A=complex(0), B=complex(1), draw_base_side=False, fill=True, fig_width=50, svg_file_name=''):\n",
    "    '''draws the penrose tiling after iter_depth deflations, starting with a robinson triangle of type t_type, shape shape, side side, point A and point B.'''\n",
    "    rt = RobinsonTriangle(t_type, shape, side, A, B)\n",
    "    draw_rts(deflate(rt, iter_depth), draw_base_side=draw_base_side, fill=fill, fig_width=fig_width, svg_file_name=svg_file_name)"
   ]
  },
  {
   "cell_type": "code",
   "execution_count": null,
   "id": "9bf09492-29bf-4766-b3bd-f8701d0e2be8",
   "metadata": {},
   "outputs": [],
   "source": [
    "draw_penrose_tiling(2, 'A', 'F', 8)"
   ]
  },
  {
   "cell_type": "code",
   "execution_count": null,
   "id": "8fe589e4-9285-4164-9d25-20290fbace1a",
   "metadata": {},
   "outputs": [],
   "source": [
    "draw_penrose_tiling(2, 'O', 'B', 8, draw_base_side=True, fill=False)"
   ]
  },
  {
   "cell_type": "code",
   "execution_count": null,
   "id": "4e79ad04-8c14-41f3-b771-5bb0fff82c90",
   "metadata": {},
   "outputs": [],
   "source": [
    "for (t_type, shape, side) in itertools.product(TRIANGLE_TYPES, SHAPES, SIDES):\n",
    "    if t_type == 2:\n",
    "        draw_penrose_tiling(t_type, shape, side, 8, fill=False, svg_file_name='penrose_tiling_{}_{}_{}.svg'.format(t_type, shape, side))"
   ]
  },
  {
   "cell_type": "code",
   "execution_count": null,
   "id": "e4a9932d-1623-49ac-8646-665ff1ab28fe",
   "metadata": {},
   "outputs": [],
   "source": [
    "for (t_type, shape, side) in itertools.product(TRIANGLE_TYPES, SHAPES, SIDES):\n",
    "    if t_type == 2:\n",
    "        draw_penrose_tiling(t_type, shape, side, 8, svg_file_name='penrose_tiling_colored_{}_{}_{}.svg'.format(t_type, shape, side))"
   ]
  }
 ],
 "metadata": {
  "kernelspec": {
   "display_name": "Python 3 (ipykernel)",
   "language": "python",
   "name": "python3"
  },
  "language_info": {
   "codemirror_mode": {
    "name": "ipython",
    "version": 3
   },
   "file_extension": ".py",
   "mimetype": "text/x-python",
   "name": "python",
   "nbconvert_exporter": "python",
   "pygments_lexer": "ipython3",
   "version": "3.8.1"
  }
 },
 "nbformat": 4,
 "nbformat_minor": 5
}

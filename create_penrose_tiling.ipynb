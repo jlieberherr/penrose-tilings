{
 "cells": [
  {
   "cell_type": "code",
   "execution_count": null,
   "id": "e96d31ae-3b96-4f84-b946-17b59392e9fc",
   "metadata": {},
   "outputs": [],
   "source": [
    "import numpy as np\n",
    "import matplotlib.pyplot as plt"
   ]
  },
  {
   "cell_type": "code",
   "execution_count": null,
   "id": "da535f00-8dfa-4210-a7b9-80c548f8302c",
   "metadata": {},
   "outputs": [],
   "source": [
    "def rotate(point, origin, angle_deg):\n",
    "    angle_rad = np.deg2rad(angle_deg)\n",
    "    return (point - origin) * np.exp(1j * angle_rad) + origin"
   ]
  },
  {
   "cell_type": "code",
   "execution_count": null,
   "id": "dc5c4746-ca2b-4131-ac70-e19da250062d",
   "metadata": {},
   "outputs": [],
   "source": [
    "triangle_types = {1, 2} # type 1: for P2-tilings, type 2: for P3-tilings\n",
    "shapes = {'A', 'O'} # 'A': acute equilateral triangle, 'O': obtuse equilateral triangle \n",
    "sides = {'F', 'B'} # 'F': frontside, 'B': backside\n",
    "tolerance = 0.00000001\n",
    "\n",
    "class RobinsonTriangle:\n",
    "    def __init__(self, t_type, shape, side, A, B):\n",
    "        if t_type not in triangle_types:\n",
    "            raise ValueError('t_type must be in {}, but is {}'.format(triangle_types, t_type))\n",
    "        self.t_type = t_type\n",
    "        if shape not in shapes:\n",
    "            raise ValueError('shape must be in {}, but is {}'.format(shapes, shape))\n",
    "        self.shape = shape\n",
    "        self.side = side\n",
    "        if side not in sides:\n",
    "            raise ValueError('side must be in {}, but is {}'.format(sides, side))\n",
    "        self.side = side\n",
    "        if abs(B - A) < tolerance:\n",
    "            raise ValueError('points {} and {} too close'.format(A, B))\n",
    "        if not isinstance(A, complex):\n",
    "            raise ValueError('A must be a complex number but is {}'.format(type(A)))\n",
    "        if not isinstance(B, complex):\n",
    "            raise ValueError('B must be a complex number but is {}'.format(type(B)))\n",
    "        self.A = A # the point at the top of the equilateral triangle as a complex number\n",
    "        self.B = B # the point after A (anti-clockwise) as a complex number\n",
    "        rot_angle_deg = 36 if self.shape == 'A' else 108\n",
    "        self.C = rotate(B, A, rot_angle_deg)\n",
    "    def __repr__(self):\n",
    "        return '[t_type={}, shape={}, side={}, A={}, B={}, C={}]'.format(self.t_type, self.shape, self.side, self.A, self.B, self.C)\n",
    "    def draw(self):\n",
    "        plt.plot([self.A.real, self.B.real], [self.A.imag, self.B.imag], \n",
    "                 [self.A.real, self.C.real], [self.A.imag, self.C.imag], \n",
    "                 [self.B.real, self.C.real], [self.B.imag, self.C.imag],\n",
    "                color='black'\n",
    "                )\n",
    "    def deflate(self):\n",
    "        if self.t_type == 1:\n",
    "            raise NotImplementedError('deflation for t_type 1 is not implemented yet')\n",
    "        elif self.t_type == 2:\n",
    "            if self.shape == 'A':\n",
    "                if self.side == 'F':\n",
    "                    D = rotate(self.C, self.B, 36)\n",
    "                    return [\n",
    "                        RobinsonTriangle(self.t_type, 'A', 'F', self.B, self.C),\n",
    "                        RobinsonTriangle(self.t_type, 'O', 'B', D, self.A),\n",
    "                    ] \n",
    "                elif self.side == 'B':\n",
    "                    D = rotate(self.B, self.C, 360 - 36)\n",
    "                    return [\n",
    "                        RobinsonTriangle(self.t_type, 'O', 'F', D, self.C),\n",
    "                        RobinsonTriangle(self.t_type, 'A', 'B', self.C, D),\n",
    "                    ] \n",
    "            elif self.shape == 'O':\n",
    "                if self.side == 'F':\n",
    "                    P = rotate(self.A, self.B, 360 - 36)\n",
    "                    Q = rotate(self.A, P, 36)\n",
    "                    return [\n",
    "                        RobinsonTriangle(self.t_type, 'O', 'B', Q, self.B),\n",
    "                        RobinsonTriangle(self.t_type, 'A', 'F', P, self.A),\n",
    "                        RobinsonTriangle(self.t_type, 'O', 'F', P, self.C),\n",
    "                    ]\n",
    "                elif self.side == 'B':\n",
    "                    P = rotate(self.A, self.C, 36)\n",
    "                    Q = rotate(self.A, P, 360 - 36)\n",
    "                return [\n",
    "                        RobinsonTriangle(self.t_type, 'O', 'F', Q, P),\n",
    "                        RobinsonTriangle(self.t_type, 'A', 'B', P, Q),\n",
    "                        RobinsonTriangle(self.t_type, 'O', 'B', P, self.A),\n",
    "                    ]\n",
    "            "
   ]
  },
  {
   "cell_type": "code",
   "execution_count": null,
   "id": "b455e00a-5850-4ae4-b693-59c13e621a2b",
   "metadata": {},
   "outputs": [],
   "source": [
    "rt_2_A_F = RobinsonTriangle(2, 'A', 'F', complex(0), complex(1))\n",
    "rt_2_A_F.draw()"
   ]
  },
  {
   "cell_type": "code",
   "execution_count": null,
   "id": "869fb6cd-5f9a-447c-a395-cae7990bb60d",
   "metadata": {},
   "outputs": [],
   "source": [
    "print(plt.figure().get_size_inches())\n",
    "rt_2_A_F.draw()\n",
    "for t in rt_2_A_F.deflate():\n",
    "    t.draw()\n",
    "print(plt.figure().get_size_inches())\n",
    "print(2 * plt.figure().get_size_inches())\n",
    "plt.figure(figsize= 2 * plt.figure().get_size_inches())\n",
    "print(plt.figure().get_size_inches())\n",
    "plt.show()"
   ]
  },
  {
   "cell_type": "code",
   "execution_count": null,
   "id": "f50f365d-c41a-4764-a5f9-485edbcc3156",
   "metadata": {},
   "outputs": [],
   "source": [
    "rt_2_A_B = RobinsonTriangle(2, 'A', 'B', complex(0), complex(1))\n",
    "rt_2_A_B.draw()"
   ]
  },
  {
   "cell_type": "code",
   "execution_count": null,
   "id": "19edb513-b232-4fe2-a7ab-efe31e53e972",
   "metadata": {},
   "outputs": [],
   "source": [
    "rt_2_A_B.draw()\n",
    "for t in rt_2_A_B.deflate():\n",
    "    t.draw()\n",
    "plt.show()"
   ]
  },
  {
   "cell_type": "code",
   "execution_count": null,
   "id": "8b28f29d-b7fa-480e-a88a-9c96cc1091cd",
   "metadata": {},
   "outputs": [],
   "source": [
    "rt_2_O_F = RobinsonTriangle(2, 'O', 'F', complex(0), complex(1))\n",
    "rt_2_O_F.draw()"
   ]
  },
  {
   "cell_type": "code",
   "execution_count": null,
   "id": "5937bf37-ba0d-4ef3-8c95-23e33d2fee7a",
   "metadata": {},
   "outputs": [],
   "source": [
    "rt_2_O_F.draw()\n",
    "for t in rt_2_O_F.deflate():\n",
    "    t.draw()\n",
    "plt.show()"
   ]
  },
  {
   "cell_type": "code",
   "execution_count": null,
   "id": "a1f22144-fd67-4b8e-a0df-b49298a85d41",
   "metadata": {},
   "outputs": [],
   "source": [
    "rt_2_O_B = RobinsonTriangle(2, 'O', 'B', complex(0), complex(1))\n",
    "rt_2_O_B.draw()"
   ]
  },
  {
   "cell_type": "code",
   "execution_count": null,
   "id": "c5097b1e-1f1a-497a-9459-899872d52398",
   "metadata": {},
   "outputs": [],
   "source": [
    "rt_2_O_B.draw()\n",
    "for t in rt_2_O_B.deflate():\n",
    "    t.draw()\n",
    "plt.show()"
   ]
  },
  {
   "cell_type": "code",
   "execution_count": null,
   "id": "8ff171a5-e258-4435-9a84-ed2bea0f30bd",
   "metadata": {},
   "outputs": [],
   "source": [
    "def deflate_triangles(rts):\n",
    "    res = []\n",
    "    for rt in rts:\n",
    "        res += rt.deflate()\n",
    "    return res"
   ]
  },
  {
   "cell_type": "code",
   "execution_count": null,
   "id": "9d2d520d-d9a7-4772-baeb-e612e1370c46",
   "metadata": {},
   "outputs": [],
   "source": [
    "def deflate(first_rt, iter_depth):\n",
    "    res = [first_rt]\n",
    "    for i in range(iter_depth):\n",
    "        res = deflate_triangles(res)\n",
    "    return res"
   ]
  },
  {
   "cell_type": "code",
   "execution_count": null,
   "id": "dd8a1b96-0852-432c-89d2-cb32a8528aeb",
   "metadata": {},
   "outputs": [],
   "source": [
    "fig_width = 50"
   ]
  },
  {
   "cell_type": "code",
   "execution_count": null,
   "id": "b9ef703c-e4f9-40b3-b411-5780c3f193b9",
   "metadata": {},
   "outputs": [],
   "source": [
    "def get_box(rts):\n",
    "    x_min = min([min(rt.A.real, rt.B.real, rt.C.real) for rt in rts])\n",
    "    x_max = max([max(rt.A.real, rt.B.real, rt.C.real) for rt in rts])\n",
    "    y_min = min([min(rt.A.imag, rt.B.imag, rt.C.imag) for rt in rts])\n",
    "    y_max = max([max(rt.A.imag, rt.B.imag, rt.C.imag) for rt in rts])\n",
    "    return (x_min, y_min), (x_max, y_max)"
   ]
  },
  {
   "cell_type": "code",
   "execution_count": null,
   "id": "f80a24d2-64b3-46c3-b5ed-657f2e2807a7",
   "metadata": {},
   "outputs": [],
   "source": [
    "def draw_rts(rts):\n",
    "    (x_min, y_min), (x_max, y_max) = get_box(rts)\n",
    "    y_scale = (x_max - x_min) / (y_max - y_min)\n",
    "    plt.figure(figsize=(fig_width, fig_width / y_scale))\n",
    "    plt.axis('equal')\n",
    "    plt.axis('off')\n",
    "    for t in rts:\n",
    "        t.draw()\n",
    "    plt.savefig(\"robinson_triangles.svg\")\n",
    "    plt.show()"
   ]
  },
  {
   "cell_type": "code",
   "execution_count": null,
   "id": "28d37029-c260-4f39-9ffe-b3ba7dd67c74",
   "metadata": {
    "tags": []
   },
   "outputs": [],
   "source": [
    "def draw_penrose_tiling_from_rts(rts):\n",
    "    (x_min, y_min), (x_max, y_max) = get_box(rts)\n",
    "    y_scale = (x_max - x_min) / (y_max - y_min)\n",
    "    plt.figure(figsize=(fig_width, fig_width / y_scale))\n",
    "    plt.axis('equal')\n",
    "    plt.axis('off')\n",
    "    n = len(rts)\n",
    "    neigbouring_triangles = []\n",
    "    for i in range(n):\n",
    "        rt1 = rts[i]\n",
    "        for j in range(i, n):\n",
    "            rt2 = rts[j]\n",
    "            if rt1.shape == rt2.shape and rt1.side != rt2.side:\n",
    "                if abs(rt1.B - rt2.C) < tolerance and abs(rt1.C - rt2.B) < tolerance:\n",
    "                    plt.plot(\n",
    "                        [rt1.A.real, rt1.B.real], [rt1.A.imag, rt1.B.imag],\n",
    "                        [rt1.A.real, rt1.C.real], [rt1.A.imag, rt1.C.imag],\n",
    "                        [rt2.A.real, rt2.B.real], [rt2.A.imag, rt2.B.imag],\n",
    "                        [rt2.A.real, rt2.C.real], [rt2.A.imag, rt2.C.imag],\n",
    "                        color='black')\n",
    "\n",
    "    plt.savefig(\"penrose_tiling.svg\")\n",
    "    plt.show()"
   ]
  },
  {
   "cell_type": "code",
   "execution_count": null,
   "id": "11f3cad8-8d2c-4a7d-9bae-cf4bd19862c8",
   "metadata": {},
   "outputs": [],
   "source": [
    "def draw_penrose_tiling(t_type, shape, side, iter_depth, A=complex(0), B=complex(1)):\n",
    "    rt = RobinsonTriangle(t_type, shape, side, A, B)\n",
    "    draw_penrose_tiling_from_rts(deflate(rt, iter_depth))"
   ]
  },
  {
   "cell_type": "code",
   "execution_count": null,
   "id": "9bf09492-29bf-4766-b3bd-f8701d0e2be8",
   "metadata": {},
   "outputs": [],
   "source": [
    "draw_penrose_tiling(2, 'O', 'B', 8)"
   ]
  },
  {
   "cell_type": "code",
   "execution_count": null,
   "id": "8fe589e4-9285-4164-9d25-20290fbace1a",
   "metadata": {},
   "outputs": [],
   "source": [
    "draw_penrose_tiling(2, 'O', 'B', 8, A=rotate(complex(1), 0, 36), B=complex(0))"
   ]
  },
  {
   "cell_type": "code",
   "execution_count": null,
   "id": "a315215e-5af6-4b35-91fb-e08c617bf85d",
   "metadata": {},
   "outputs": [],
   "source": [
    "res = deflate(rt_2_O_B, 8)"
   ]
  },
  {
   "cell_type": "code",
   "execution_count": null,
   "id": "3ee9586a-a86f-46d8-8bd9-fed699180c51",
   "metadata": {},
   "outputs": [],
   "source": [
    "draw_rts(res)"
   ]
  },
  {
   "cell_type": "code",
   "execution_count": null,
   "id": "3c976f20-6533-478f-b255-68a8295b29d1",
   "metadata": {},
   "outputs": [],
   "source": [
    "draw_penrose_tiling_from_rts(res)"
   ]
  }
 ],
 "metadata": {
  "kernelspec": {
   "display_name": "Python 3 (ipykernel)",
   "language": "python",
   "name": "python3"
  },
  "language_info": {
   "codemirror_mode": {
    "name": "ipython",
    "version": 3
   },
   "file_extension": ".py",
   "mimetype": "text/x-python",
   "name": "python",
   "nbconvert_exporter": "python",
   "pygments_lexer": "ipython3",
   "version": "3.8.1"
  }
 },
 "nbformat": 4,
 "nbformat_minor": 5
}
